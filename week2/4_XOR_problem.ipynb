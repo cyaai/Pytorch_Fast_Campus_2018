{
 "cells": [
  {
   "cell_type": "code",
   "execution_count": 1,
   "metadata": {
    "collapsed": true
   },
   "outputs": [],
   "source": [
    "import torch\n",
    "import torch.nn as nn\n",
    "from torch.autograd import Variable\n",
    "import torch.optim as optim\n",
    "import torch.nn.functional as F\n",
    "import numpy as np\n",
    "\n",
    "torch.manual_seed(1)\n",
    "import matplotlib.pyplot as plt\n",
    "%matplotlib inline"
   ]
  },
  {
   "cell_type": "code",
   "execution_count": 2,
   "metadata": {
    "collapsed": true
   },
   "outputs": [],
   "source": [
    "x = Variable(torch.Tensor([[1.,0.],[1.,1.],[0.,1.],[0.,0.]]))\n",
    "y = Variable(torch.Tensor([[1.],[0.],[1.],[0.]]))"
   ]
  },
  {
   "cell_type": "markdown",
   "metadata": {},
   "source": [
    "### linear model "
   ]
  },
  {
   "cell_type": "code",
   "execution_count": 3,
   "metadata": {
    "collapsed": true
   },
   "outputs": [],
   "source": [
    "EPOCH=100\n",
    "LR=0.001\n",
    "\n",
    "linear_model = nn.Sequential(nn.Linear(2,1),nn.Sigmoid())\n",
    "loss_function = nn.BCELoss()\n",
    "optimizer = optim.SGD(linear_model.parameters(),lr=LR)"
   ]
  },
  {
   "cell_type": "code",
   "execution_count": 6,
   "metadata": {},
   "outputs": [
    {
     "name": "stdout",
     "output_type": "stream",
     "text": [
      "[00/100] loss : 0.702\n",
      "[10/100] loss : 0.702\n",
      "[20/100] loss : 0.702\n",
      "[30/100] loss : 0.702\n",
      "[40/100] loss : 0.702\n",
      "[50/100] loss : 0.702\n",
      "[60/100] loss : 0.702\n",
      "[70/100] loss : 0.702\n",
      "[80/100] loss : 0.702\n",
      "[90/100] loss : 0.702\n"
     ]
    }
   ],
   "source": [
    "for epoch in range(EPOCH):\n",
    "    linear_model.zero_grad()\n",
    "    pred = linear_model(x)\n",
    "    \n",
    "    loss = loss_function(pred,y)\n",
    "    if epoch%10==0:\n",
    "        print(\"[%02d/%d] loss : %.3f\" % (epoch,EPOCH,loss.data[0]))\n",
    "    loss.backward()\n",
    "    optimizer.step()"
   ]
  },
  {
   "cell_type": "code",
   "execution_count": 7,
   "metadata": {},
   "outputs": [
    {
     "name": "stdout",
     "output_type": "stream",
     "text": [
      "[1.0, 0.0] 1.0\n",
      "[1.0, 1.0] 0.0\n",
      "[0.0, 1.0] 0.0\n",
      "[0.0, 0.0] 0.0\n"
     ]
    }
   ],
   "source": [
    "for t in x:\n",
    "    test = linear_model(t)\n",
    "    print(t.data.tolist(),torch.round(test).data[0])"
   ]
  },
  {
   "cell_type": "markdown",
   "metadata": {},
   "source": [
    "### nonlinear model "
   ]
  },
  {
   "cell_type": "code",
   "execution_count": 51,
   "metadata": {},
   "outputs": [],
   "source": [
    "EPOCH=1000\n",
    "HIDDEN=2\n",
    "LR=0.1\n",
    "\n",
    "nonlinear_model = nn.Sequential(nn.Linear(2,HIDDEN),\n",
    "                                                 nn.ReLU(),\n",
    "                                                 nn.Linear(HIDDEN,1),\n",
    "                                                 nn.Sigmoid())\n",
    "\n",
    "loss_function = nn.BCELoss()\n",
    "optimizer = optim.SGD(nonlinear_model.parameters(),lr=LR)"
   ]
  },
  {
   "cell_type": "code",
   "execution_count": 52,
   "metadata": {},
   "outputs": [
    {
     "name": "stdout",
     "output_type": "stream",
     "text": [
      "[00/1000] loss : 0.705\n",
      "[100/1000] loss : 0.647\n",
      "[200/1000] loss : 0.575\n",
      "[300/1000] loss : 0.519\n",
      "[400/1000] loss : 0.489\n",
      "[500/1000] loss : 0.439\n",
      "[600/1000] loss : 0.268\n",
      "[700/1000] loss : 0.134\n",
      "[800/1000] loss : 0.085\n",
      "[900/1000] loss : 0.061\n"
     ]
    }
   ],
   "source": [
    "for epoch in range(EPOCH):\n",
    "    nonlinear_model.zero_grad()\n",
    "    pred = nonlinear_model(x)\n",
    "    \n",
    "    loss = loss_function(pred,y)\n",
    "    if epoch%100==0:\n",
    "        print(\"[%02d/%d] loss : %.3f\" % (epoch,EPOCH,loss.data[0]))\n",
    "    loss.backward()\n",
    "    optimizer.step()"
   ]
  },
  {
   "cell_type": "code",
   "execution_count": 53,
   "metadata": {},
   "outputs": [
    {
     "name": "stdout",
     "output_type": "stream",
     "text": [
      "[1.0, 0.0] 1.0\n",
      "[1.0, 1.0] 0.0\n",
      "[0.0, 1.0] 1.0\n",
      "[0.0, 0.0] 0.0\n"
     ]
    }
   ],
   "source": [
    "for t in x:\n",
    "    test = nonlinear_model(t)\n",
    "    print(t.data.tolist(),torch.round(test).data[0])"
   ]
  },
  {
   "cell_type": "code",
   "execution_count": null,
   "metadata": {
    "collapsed": true
   },
   "outputs": [],
   "source": []
  },
  {
   "cell_type": "code",
   "execution_count": null,
   "metadata": {
    "collapsed": true
   },
   "outputs": [],
   "source": []
  }
 ],
 "metadata": {
  "kernelspec": {
   "display_name": "Python 3",
   "language": "python",
   "name": "python3"
  },
  "language_info": {
   "codemirror_mode": {
    "name": "ipython",
    "version": 3
   },
   "file_extension": ".py",
   "mimetype": "text/x-python",
   "name": "python",
   "nbconvert_exporter": "python",
   "pygments_lexer": "ipython3",
   "version": "3.6.3"
  },
  "latex_envs": {
   "LaTeX_envs_menu_present": true,
   "autocomplete": true,
   "bibliofile": "biblio.bib",
   "cite_by": "apalike",
   "current_citInitial": 1,
   "eqLabelWithNumbers": true,
   "eqNumInitial": 1,
   "hotkeys": {
    "equation": "Ctrl-E",
    "itemize": "Ctrl-I"
   },
   "labels_anchors": false,
   "latex_user_defs": false,
   "report_style_numbering": false,
   "user_envs_cfg": false
  },
  "varInspector": {
   "cols": {
    "lenName": 16,
    "lenType": 16,
    "lenVar": 40
   },
   "kernels_config": {
    "python": {
     "delete_cmd_postfix": "",
     "delete_cmd_prefix": "del ",
     "library": "var_list.py",
     "varRefreshCmd": "print(var_dic_list())"
    },
    "r": {
     "delete_cmd_postfix": ") ",
     "delete_cmd_prefix": "rm(",
     "library": "var_list.r",
     "varRefreshCmd": "cat(var_dic_list()) "
    }
   },
   "types_to_exclude": [
    "module",
    "function",
    "builtin_function_or_method",
    "instance",
    "_Feature"
   ],
   "window_display": false
  }
 },
 "nbformat": 4,
 "nbformat_minor": 2
}
